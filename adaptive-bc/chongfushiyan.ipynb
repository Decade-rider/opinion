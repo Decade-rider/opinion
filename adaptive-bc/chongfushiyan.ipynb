{
 "cells": [
  {
   "cell_type": "code",
   "execution_count": null,
   "metadata": {},
   "outputs": [],
   "source": [
    "import numpy as np\n",
    "import matplotlib.pyplot as plt\n",
    "from model import Model\n",
    "\n",
    "# 设置实验参数\n",
    "N = 100  # 节点数量\n",
    "p = 0.1  # 网络中每对节点间的连接概率\n",
    "tolerance = 1e-5  # 收敛容忍度\n",
    "max_steps = 100000  # 最大迭代步数\n",
    "trials = 10  # 实验次数\n",
    "\n",
    "# 初始化存储每次实验的结果\n",
    "all_opinions = []\n",
    "\n",
    "# 运行多次实验\n",
    "for trial in range(trials):\n",
    "    seed = np.random.randint(0, 1000000)\n",
    "    C = np.random.uniform(0.1, 1.0, N)\n",
    "    alphas = np.random.uniform(0.1, 0.5, N)\n",
    "\n",
    "    model = Model(seed_sequence=np.random.SeedSequence(seed), N=N, p=p, tolerance=tolerance, max_steps=max_steps, alphas=alphas, C=C, beta=0.5, M=1, K=5, full_time_series=True)\n",
    "    model.run(test=True)\n",
    "    opinions = model.get_opinions()\n",
    "    all_opinions.append(opinions)\n",
    "\n",
    "# 对实验结果进行分析或绘图\n",
    "# 这里以绘制所有实验中某个节点观点变化的平均值为例\n",
    "average_opinions = np.mean(np.array(all_opinions), axis=0)\n",
    "time_steps = list(range(average_opinions.shape[0]))\n",
    "\n",
    "plt.figure(figsize=(10, 6))\n",
    "plt.plot(time_steps, average_opinions[:, 0], label='Node 0')  # 示例：只绘制第一个节点\n",
    "plt.xlabel('Time Step')\n",
    "plt.ylabel('Average Opinion')\n",
    "plt.title('Average Opinion Evolution of Node 0 Across Trials')\n",
    "plt.legend()\n",
    "plt.show()"
   ]
  },
  {
   "cell_type": "code",
   "execution_count": 22,
   "metadata": {},
   "outputs": [
    {
     "name": "stdout",
     "output_type": "stream",
     "text": [
      "initializing network\n",
      "Model finished. \n",
      "Convergence time: 23335\n",
      "saving model to adaptive-bc-beta_1_trial_1_spk_None.pbz2\n",
      "saving model to adaptive-bc/data/emotion/baseline-ABC-K_5-C_1-beta_1-trial_1.pbz2\n"
     ]
    },
    {
     "ename": "FileNotFoundError",
     "evalue": "[Errno 2] No such file or directory: 'adaptive-bc/data/emotion/baseline-ABC-K_5-C_1-beta_1-trial_1.pbz2'",
     "output_type": "error",
     "traceback": [
      "\u001b[1;31m---------------------------------------------------------------------------\u001b[0m",
      "\u001b[1;31mFileNotFoundError\u001b[0m                         Traceback (most recent call last)",
      "Cell \u001b[1;32mIn[22], line 14\u001b[0m\n\u001b[0;32m     11\u001b[0m K \u001b[38;5;241m=\u001b[39m \u001b[38;5;241m5\u001b[39m\n\u001b[0;32m     13\u001b[0m \u001b[38;5;66;03m# 运行多次实验\u001b[39;00m\n\u001b[1;32m---> 14\u001b[0m \u001b[43mmultiple_experiments\u001b[49m\u001b[43m(\u001b[49m\u001b[43mnum_experiments\u001b[49m\u001b[43m,\u001b[49m\u001b[43m \u001b[49m\u001b[43mN\u001b[49m\u001b[43m,\u001b[49m\u001b[43m \u001b[49m\u001b[43mC\u001b[49m\u001b[43m,\u001b[49m\u001b[43m \u001b[49m\u001b[43mbeta\u001b[49m\u001b[43m,\u001b[49m\u001b[43m \u001b[49m\u001b[43mK\u001b[49m\u001b[43m,\u001b[49m\u001b[43m \u001b[49m\u001b[43malphas\u001b[49m\u001b[43m)\u001b[49m\n\u001b[0;32m     16\u001b[0m \u001b[38;5;66;03m# 加载模型并绘制结果\u001b[39;00m\n\u001b[0;32m     17\u001b[0m \u001b[38;5;28;01mfor\u001b[39;00m trial \u001b[38;5;129;01min\u001b[39;00m \u001b[38;5;28mrange\u001b[39m(\u001b[38;5;241m1\u001b[39m, num_experiments \u001b[38;5;241m+\u001b[39m \u001b[38;5;241m1\u001b[39m):\n",
      "File \u001b[1;32mc:\\Users\\panchonglin\\Desktop\\opinion\\adaptive-bc\\run_control.py:32\u001b[0m, in \u001b[0;36mmultiple_experiments\u001b[1;34m(num_experiments, N, C, beta, K, alphas_list)\u001b[0m\n\u001b[0;32m     30\u001b[0m model_params \u001b[38;5;241m=\u001b[39m kwparams(N, C, beta, trial, K, alphas)\n\u001b[0;32m     31\u001b[0m filename \u001b[38;5;241m=\u001b[39m \u001b[38;5;124mf\u001b[39m\u001b[38;5;124m'\u001b[39m\u001b[38;5;124mbaseline-ABC-K_\u001b[39m\u001b[38;5;132;01m{\u001b[39;00mK\u001b[38;5;132;01m}\u001b[39;00m\u001b[38;5;124m-C_1-beta_\u001b[39m\u001b[38;5;132;01m{\u001b[39;00mbeta\u001b[38;5;132;01m}\u001b[39;00m\u001b[38;5;124m-trial_\u001b[39m\u001b[38;5;132;01m{\u001b[39;00mtrial\u001b[38;5;132;01m}\u001b[39;00m\u001b[38;5;124m'\u001b[39m\n\u001b[1;32m---> 32\u001b[0m \u001b[43mrun_single_experiment\u001b[49m\u001b[43m(\u001b[49m\u001b[43mseed_sequence\u001b[49m\u001b[38;5;241;43m=\u001b[39;49m\u001b[43mseed\u001b[49m\u001b[43m,\u001b[49m\u001b[43m \u001b[49m\u001b[43mmodel_params\u001b[49m\u001b[38;5;241;43m=\u001b[39;49m\u001b[43mmodel_params\u001b[49m\u001b[43m,\u001b[49m\u001b[43m \u001b[49m\u001b[43mfilename\u001b[49m\u001b[38;5;241;43m=\u001b[39;49m\u001b[43mfilename\u001b[49m\u001b[43m)\u001b[49m\n\u001b[0;32m     33\u001b[0m \u001b[38;5;28mprint\u001b[39m(\u001b[38;5;124mf\u001b[39m\u001b[38;5;124m'\u001b[39m\u001b[38;5;124mExperiment \u001b[39m\u001b[38;5;132;01m{\u001b[39;00mtrial\u001b[38;5;132;01m}\u001b[39;00m\u001b[38;5;124m completed.\u001b[39m\u001b[38;5;124m'\u001b[39m)\n",
      "File \u001b[1;32mc:\\Users\\panchonglin\\Desktop\\opinion\\adaptive-bc\\run_control.py:23\u001b[0m, in \u001b[0;36mrun_single_experiment\u001b[1;34m(seed_sequence, model_params, filename)\u001b[0m\n\u001b[0;32m     21\u001b[0m model \u001b[38;5;241m=\u001b[39m Model(seed_sequence, \u001b[38;5;241m*\u001b[39m\u001b[38;5;241m*\u001b[39mmodel_params)\n\u001b[0;32m     22\u001b[0m model\u001b[38;5;241m.\u001b[39mrun(test\u001b[38;5;241m=\u001b[39m\u001b[38;5;28;01mFalse\u001b[39;00m)\n\u001b[1;32m---> 23\u001b[0m \u001b[43mmodel\u001b[49m\u001b[38;5;241;43m.\u001b[39;49m\u001b[43msave_model\u001b[49m\u001b[43m(\u001b[49m\u001b[38;5;124;43mf\u001b[39;49m\u001b[38;5;124;43m'\u001b[39;49m\u001b[38;5;124;43madaptive-bc/data/emotion/\u001b[39;49m\u001b[38;5;132;43;01m{\u001b[39;49;00m\u001b[43mfilename\u001b[49m\u001b[38;5;132;43;01m}\u001b[39;49;00m\u001b[38;5;124;43m.pbz2\u001b[39;49m\u001b[38;5;124;43m'\u001b[39;49m\u001b[43m)\u001b[49m\n",
      "File \u001b[1;32mc:\\Users\\panchonglin\\Desktop\\opinion\\adaptive-bc\\model.py:267\u001b[0m, in \u001b[0;36mModel.save_model\u001b[1;34m(self, filename)\u001b[0m\n\u001b[0;32m    264\u001b[0m     filename \u001b[38;5;241m=\u001b[39m \u001b[38;5;124mf\u001b[39m\u001b[38;5;124m'\u001b[39m\u001b[38;5;124madaptive-bc-beta_\u001b[39m\u001b[38;5;132;01m{\u001b[39;00mbeta_str\u001b[38;5;132;01m}\u001b[39;00m\u001b[38;5;124m_trial_\u001b[39m\u001b[38;5;132;01m{\u001b[39;00m\u001b[38;5;28mself\u001b[39m\u001b[38;5;241m.\u001b[39mtrial\u001b[38;5;132;01m}\u001b[39;00m\u001b[38;5;124m_spk_\u001b[39m\u001b[38;5;132;01m{\u001b[39;00m\u001b[38;5;28mself\u001b[39m\u001b[38;5;241m.\u001b[39mspawn_key\u001b[38;5;132;01m}\u001b[39;00m\u001b[38;5;124m.pbz2\u001b[39m\u001b[38;5;124m'\u001b[39m\n\u001b[0;32m    266\u001b[0m \u001b[38;5;28mprint\u001b[39m(\u001b[38;5;124mf\u001b[39m\u001b[38;5;124m'\u001b[39m\u001b[38;5;124msaving model to \u001b[39m\u001b[38;5;132;01m{\u001b[39;00mfilename\u001b[38;5;132;01m}\u001b[39;00m\u001b[38;5;124m'\u001b[39m)\n\u001b[1;32m--> 267\u001b[0m \u001b[38;5;28;01mwith\u001b[39;00m \u001b[43mbz2\u001b[49m\u001b[38;5;241;43m.\u001b[39;49m\u001b[43mBZ2File\u001b[49m\u001b[43m(\u001b[49m\u001b[43mfilename\u001b[49m\u001b[43m,\u001b[49m\u001b[43m \u001b[49m\u001b[38;5;124;43m'\u001b[39;49m\u001b[38;5;124;43mw\u001b[39;49m\u001b[38;5;124;43m'\u001b[39;49m\u001b[43m)\u001b[49m \u001b[38;5;28;01mas\u001b[39;00m f:\n\u001b[0;32m    268\u001b[0m     pickle\u001b[38;5;241m.\u001b[39mdump(\u001b[38;5;28mself\u001b[39m, f)\n",
      "File \u001b[1;32mc:\\Users\\panchonglin\\.conda\\envs\\od_learn\\Lib\\bz2.py:81\u001b[0m, in \u001b[0;36mBZ2File.__init__\u001b[1;34m(self, filename, mode, compresslevel)\u001b[0m\n\u001b[0;32m     78\u001b[0m     \u001b[38;5;28;01mraise\u001b[39;00m \u001b[38;5;167;01mValueError\u001b[39;00m(\u001b[38;5;124m\"\u001b[39m\u001b[38;5;124mInvalid mode: \u001b[39m\u001b[38;5;132;01m%r\u001b[39;00m\u001b[38;5;124m\"\u001b[39m \u001b[38;5;241m%\u001b[39m (mode,))\n\u001b[0;32m     80\u001b[0m \u001b[38;5;28;01mif\u001b[39;00m \u001b[38;5;28misinstance\u001b[39m(filename, (\u001b[38;5;28mstr\u001b[39m, \u001b[38;5;28mbytes\u001b[39m, os\u001b[38;5;241m.\u001b[39mPathLike)):\n\u001b[1;32m---> 81\u001b[0m     \u001b[38;5;28mself\u001b[39m\u001b[38;5;241m.\u001b[39m_fp \u001b[38;5;241m=\u001b[39m \u001b[43m_builtin_open\u001b[49m\u001b[43m(\u001b[49m\u001b[43mfilename\u001b[49m\u001b[43m,\u001b[49m\u001b[43m \u001b[49m\u001b[43mmode\u001b[49m\u001b[43m)\u001b[49m\n\u001b[0;32m     82\u001b[0m     \u001b[38;5;28mself\u001b[39m\u001b[38;5;241m.\u001b[39m_closefp \u001b[38;5;241m=\u001b[39m \u001b[38;5;28;01mTrue\u001b[39;00m\n\u001b[0;32m     83\u001b[0m     \u001b[38;5;28mself\u001b[39m\u001b[38;5;241m.\u001b[39m_mode \u001b[38;5;241m=\u001b[39m mode_code\n",
      "\u001b[1;31mFileNotFoundError\u001b[0m: [Errno 2] No such file or directory: 'adaptive-bc/data/emotion/baseline-ABC-K_5-C_1-beta_1-trial_1.pbz2'"
     ]
    }
   ],
   "source": [
    "# 假设 run.py 和 visualize.py 在同一目录中\n",
    "from run_control import multiple_experiments \n",
    "from visualize import load_model, plot_emotion_evolution\n",
    "\n",
    "# 设置实验参数\n",
    "num_experiments = 10\n",
    "N = 100\n",
    "C = np.random.choice([0.1, 0.2, 0.3, 0.4, 0.5, 0.6, 0.7, 0.8, 0.9, 1.0], N)\n",
    "alphas_list = [0.1, 0.2, 0.3, 0.4, 0.5]\n",
    "beta = 1\n",
    "K = 5\n",
    "\n",
    "# 运行多次实验\n",
    "multiple_experiments(num_experiments, N, C, beta, K, alphas)\n",
    "\n",
    "# 加载模型并绘制结果\n",
    "for trial in range(1, num_experiments + 1):\n",
    "    filename = f'adaptive-bc/data/emotion/baseline-ABC-K_{K}-C_1-beta_{beta}-trial_{trial}.pbz2'\n",
    "    model = load_model(filename)\n",
    "    \n",
    "    # 绘制每次实验的情绪演变\n",
    "    plot_emotion_evolution(model, f'emotion_evolution_trial_{trial}')\n"
   ]
  }
 ],
 "metadata": {
  "kernelspec": {
   "display_name": "od_learn",
   "language": "python",
   "name": "python3"
  },
  "language_info": {
   "codemirror_mode": {
    "name": "ipython",
    "version": 3
   },
   "file_extension": ".py",
   "mimetype": "text/x-python",
   "name": "python",
   "nbconvert_exporter": "python",
   "pygments_lexer": "ipython3",
   "version": "3.11.7"
  }
 },
 "nbformat": 4,
 "nbformat_minor": 2
}
